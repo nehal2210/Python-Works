{
 "cells": [
  {
   "cell_type": "code",
   "execution_count": 1,
   "metadata": {},
   "outputs": [
    {
     "data": {
      "text/plain": [
       "['',\n",
       " 'F:\\\\Users\\\\Nehal Ahmed\\\\Anaconda3\\\\python36.zip',\n",
       " 'F:\\\\Users\\\\Nehal Ahmed\\\\Anaconda3\\\\DLLs',\n",
       " 'F:\\\\Users\\\\Nehal Ahmed\\\\Anaconda3\\\\lib',\n",
       " 'F:\\\\Users\\\\Nehal Ahmed\\\\Anaconda3',\n",
       " 'F:\\\\Users\\\\Nehal Ahmed\\\\Anaconda3\\\\lib\\\\site-packages',\n",
       " 'F:\\\\Users\\\\Nehal Ahmed\\\\Anaconda3\\\\lib\\\\site-packages\\\\win32',\n",
       " 'F:\\\\Users\\\\Nehal Ahmed\\\\Anaconda3\\\\lib\\\\site-packages\\\\win32\\\\lib',\n",
       " 'F:\\\\Users\\\\Nehal Ahmed\\\\Anaconda3\\\\lib\\\\site-packages\\\\Pythonwin',\n",
       " 'F:\\\\Users\\\\Nehal Ahmed\\\\Anaconda3\\\\lib\\\\site-packages\\\\IPython\\\\extensions',\n",
       " 'C:\\\\Users\\\\Nehal Ahmed\\\\.ipython']"
      ]
     },
     "execution_count": 1,
     "metadata": {},
     "output_type": "execute_result"
    }
   ],
   "source": [
    "import sys\n",
    "sys.path"
   ]
  },
  {
   "cell_type": "code",
   "execution_count": null,
   "metadata": {},
   "outputs": [],
   "source": []
  }
 ],
 "metadata": {
  "kernelspec": {
   "display_name": "Python 3",
   "language": "python",
   "name": "python3"
  },
  "language_info": {
   "codemirror_mode": {
    "name": "ipython",
    "version": 3
   },
   "file_extension": ".py",
   "mimetype": "text/x-python",
   "name": "python",
   "nbconvert_exporter": "python",
   "pygments_lexer": "ipython3",
   "version": "3.6.5"
  }
 },
 "nbformat": 4,
 "nbformat_minor": 2
}
