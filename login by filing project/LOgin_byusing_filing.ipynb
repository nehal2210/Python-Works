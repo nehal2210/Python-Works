{
 "cells": [
  {
   "cell_type": "code",
   "execution_count": 12,
   "metadata": {},
   "outputs": [
    {
     "name": "stdout",
     "output_type": "stream",
     "text": [
      "enter name: Nehal Ahmed\n",
      "enter password: pickachoo\n",
      "enter name: Bilal\n",
      "enter password: illaichi\n",
      "enter name: noman\n",
      "enter password: popat\n",
      "enter name: shayan\n",
      "enter password: airplane\n",
      "enter name: haseeb\n",
      "enter password: million\n",
      "enter name: rabia\n",
      "enter password: billi\n",
      "enter name: khuram\n",
      "enter password: terris\n",
      "enter name: mani\n",
      "enter password: shani\n",
      "enter name: pinku\n",
      "enter password: bhootnath\n",
      "enter name: x\n"
     ]
    }
   ],
   "source": [
    "name=\"\"\n",
    "password=\"\"\n",
    "i=0\n",
    "with open(\"data.txt\",'a') as f:\n",
    "    while(True):\n",
    "        i+=1\n",
    "        name=input(\"enter name: \")\n",
    "        name=name.replace(\" \",\"\")\n",
    "        if name==\"x\":\n",
    "            break\n",
    "        password=input(\"enter password: \")\n",
    "        f.write(\"id : \" +str(i) + \" name : \"+name +\" password : \" + password +\" \"+ \"\\n\")\n",
    "        "
   ]
  },
  {
   "cell_type": "markdown",
   "metadata": {},
   "source": [
    "## LOGIN FORM"
   ]
  },
  {
   "cell_type": "code",
   "execution_count": 53,
   "metadata": {},
   "outputs": [
    {
     "name": "stdout",
     "output_type": "stream",
     "text": [
      "enter y if u want to login or e for exity\n",
      "enter name : NehalAhmed\n",
      "enter password : pickachoo\n",
      "name foound\n",
      "Welcome into your account\n"
     ]
    }
   ],
   "source": [
    "y=input(\"enter y if u want to login or e for exit\").lower()\n",
    "l=[]\n",
    "ind=0\n",
    "if y==\"y\":\n",
    "    n=input(\"enter name : \").replace(\" \",\"\")\n",
    "    p=input(\"enter password : \")\n",
    "    with open(\"data.txt\",'r') as f:\n",
    "        l=(f.read()).split(\" \")\n",
    "        for name in l:\n",
    "            if name == n:\n",
    "                ind=l.index(name)\n",
    "                print(\"name foound\")\n",
    "                if p == l[ind+3]:\n",
    "                    print(\"Welcome into your account\")\n",
    "                    break\n",
    "                else:\n",
    "                    print(\"wrong username or password\")\n",
    "                    break\n",
    "        \n",
    "elif(y==e):\n",
    "    print(\"exit\")\n",
    "else:\n",
    "    print(\"please give correct command\")"
   ]
  },
  {
   "cell_type": "code",
   "execution_count": 46,
   "metadata": {},
   "outputs": [],
   "source": [
    "l=[]\n",
    "with open(\"data.txt\",\"r\") as f:\n",
    "    l=f.read()"
   ]
  },
  {
   "cell_type": "code",
   "execution_count": 47,
   "metadata": {},
   "outputs": [],
   "source": [
    "l=l.split(\" \")"
   ]
  },
  {
   "cell_type": "code",
   "execution_count": 48,
   "metadata": {},
   "outputs": [
    {
     "data": {
      "text/plain": [
       "['id',\n",
       " ':',\n",
       " '1',\n",
       " 'name',\n",
       " ':',\n",
       " 'NehalAhmed',\n",
       " 'password',\n",
       " ':',\n",
       " 'pickachoo',\n",
       " '\\nid',\n",
       " ':',\n",
       " '2',\n",
       " 'name',\n",
       " ':',\n",
       " 'Bilal',\n",
       " 'password',\n",
       " ':',\n",
       " 'illaichi',\n",
       " '\\nid',\n",
       " ':',\n",
       " '3',\n",
       " 'name',\n",
       " ':',\n",
       " 'noman',\n",
       " 'password',\n",
       " ':',\n",
       " 'popat',\n",
       " '\\nid',\n",
       " ':',\n",
       " '4',\n",
       " 'name',\n",
       " ':',\n",
       " 'shayan',\n",
       " 'password',\n",
       " ':',\n",
       " 'airplane',\n",
       " '\\nid',\n",
       " ':',\n",
       " '5',\n",
       " 'name',\n",
       " ':',\n",
       " 'haseeb',\n",
       " 'password',\n",
       " ':',\n",
       " 'million',\n",
       " '\\nid',\n",
       " ':',\n",
       " '6',\n",
       " 'name',\n",
       " ':',\n",
       " 'rabia',\n",
       " 'password',\n",
       " ':',\n",
       " 'billi',\n",
       " '\\nid',\n",
       " ':',\n",
       " '7',\n",
       " 'name',\n",
       " ':',\n",
       " 'khuram',\n",
       " 'password',\n",
       " ':',\n",
       " 'terris',\n",
       " '\\nid',\n",
       " ':',\n",
       " '8',\n",
       " 'name',\n",
       " ':',\n",
       " 'mani',\n",
       " 'password',\n",
       " ':',\n",
       " 'shani',\n",
       " '\\nid',\n",
       " ':',\n",
       " '9',\n",
       " 'name',\n",
       " ':',\n",
       " 'pinku',\n",
       " 'password',\n",
       " ':',\n",
       " 'bhootnath',\n",
       " '\\n']"
      ]
     },
     "execution_count": 48,
     "metadata": {},
     "output_type": "execute_result"
    }
   ],
   "source": [
    "l"
   ]
  },
  {
   "cell_type": "code",
   "execution_count": 42,
   "metadata": {},
   "outputs": [
    {
     "data": {
      "text/plain": [
       "'nehalahmed'"
      ]
     },
     "execution_count": 42,
     "metadata": {},
     "output_type": "execute_result"
    }
   ],
   "source": [
    "name= \"nehal ahmed\"\n",
    "\n",
    "name=name.replace(\" \",\"\")\n",
    "name"
   ]
  },
  {
   "cell_type": "code",
   "execution_count": null,
   "metadata": {},
   "outputs": [],
   "source": [
    "#strip shroo or akhir k whitespace ko remove krta he"
   ]
  },
  {
   "cell_type": "code",
   "execution_count": 51,
   "metadata": {},
   "outputs": [
    {
     "data": {
      "text/plain": [
       "'pickachoo'"
      ]
     },
     "execution_count": 51,
     "metadata": {},
     "output_type": "execute_result"
    }
   ],
   "source": [
    "i=l.index(\"NehalAhmed\")\n",
    "l[i+3]"
   ]
  },
  {
   "cell_type": "code",
   "execution_count": null,
   "metadata": {},
   "outputs": [],
   "source": []
  }
 ],
 "metadata": {
  "kernelspec": {
   "display_name": "Python 3",
   "language": "python",
   "name": "python3"
  },
  "language_info": {
   "codemirror_mode": {
    "name": "ipython",
    "version": 3
   },
   "file_extension": ".py",
   "mimetype": "text/x-python",
   "name": "python",
   "nbconvert_exporter": "python",
   "pygments_lexer": "ipython3",
   "version": "3.6.5"
  }
 },
 "nbformat": 4,
 "nbformat_minor": 2
}
