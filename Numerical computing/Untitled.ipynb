{
 "cells": [
  {
   "cell_type": "code",
   "execution_count": 1,
   "metadata": {},
   "outputs": [],
   "source": [
    "import numpy as np"
   ]
  },
  {
   "cell_type": "code",
   "execution_count": 1,
   "metadata": {},
   "outputs": [
    {
     "name": "stdout",
     "output_type": "stream",
     "text": [
      "xl   xu   xm    fxl   fxu   fxm   fxl x fxm\n",
      "1   2   1.5   -1   2   0.25   -0.25\n",
      "1   1.5   1.25   -1   2   0.25   -0.25\n"
     ]
    }
   ],
   "source": [
    "xl=1\n",
    "xu=2\n",
    "xm=(xl+xu)/2\n",
    "fxl=(xl**2)-2\n",
    "fxu=xu**2-2\n",
    "fxm=xm**2-2\n",
    "fp=0\n",
    "print(\"xl   xu   xm    fxl   fxu   fxm   fxl x fxm\")\n",
    "while True:\n",
    "    xm=(xl+xu)/2\n",
    "    fl=(xl**2)-2\n",
    "    fu=xu**2-2\n",
    "    fm=xm**2-2\n",
    "    \n",
    "    fn=(fxm*fxl)\n",
    "    print(\"{}   {}   {}   {}   {}   {}   {}\".format(xl,xu,xm,fxl,fxu,fxm,fn))\n",
    "    if (fxm*fxl) < 0:\n",
    "        xu=xm\n",
    "        xl=xl\n",
    "    elif (fxm*fxl) > 0:\n",
    "        xu=xu    \n",
    "        xl=xm\n",
    "    \n",
    "    if fp==fn:\n",
    "        break\n",
    "    fp=(fxm*fxl)    "
   ]
  },
  {
   "cell_type": "code",
   "execution_count": null,
   "metadata": {},
   "outputs": [],
   "source": []
  }
 ],
 "metadata": {
  "kernelspec": {
   "display_name": "Python 3",
   "language": "python",
   "name": "python3"
  },
  "language_info": {
   "codemirror_mode": {
    "name": "ipython",
    "version": 3
   },
   "file_extension": ".py",
   "mimetype": "text/x-python",
   "name": "python",
   "nbconvert_exporter": "python",
   "pygments_lexer": "ipython3",
   "version": "3.6.5"
  }
 },
 "nbformat": 4,
 "nbformat_minor": 2
}
