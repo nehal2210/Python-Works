{
 "cells": [
  {
   "cell_type": "code",
   "execution_count": 10,
   "metadata": {},
   "outputs": [
    {
     "name": "stdout",
     "output_type": "stream",
     "text": [
      "Using proxy 212.24.148.234:31979\n",
      "HTTPSConnectionPool(host='www.youtube.com', port=443): Max retries exceeded with url: /IndianPythonista (Caused by ProxyError('Cannot connect to proxy.', NewConnectionError('<urllib3.connection.VerifiedHTTPSConnection object at 0x000001C17E2CA6A0>: Failed to establish a new connection: [WinError 10061] No connection could be made because the target machine actively refused it',)))\n",
      "Using proxy 328:889\n",
      "HTTPSConnectionPool(host='www.youtube.com', port=443): Max retries exceeded with url: /IndianPythonista (Caused by ProxyError('Cannot connect to proxy.', NewConnectionError('<urllib3.connection.VerifiedHTTPSConnection object at 0x000001C17E2CCC50>: Failed to establish a new connection: [Errno 11001] getaddrinfo failed',)))\n",
      "Using proxy 25: AL\n",
      "Not supported proxy scheme 25\n",
      "Using proxy 168.181.12.74:36777\n",
      "HTTPSConnectionPool(host='www.youtube.com', port=443): Max retries exceeded with url: /IndianPythonista (Caused by ConnectTimeoutError(<urllib3.connection.VerifiedHTTPSConnection object at 0x000001C17DED78D0>, 'Connection to 168.181.12.74 timed out. (connect timeout=5)'))\n",
      "Using proxy 7002:2019-12-13\n",
      "Not supported proxy scheme 7002\n",
      "Using proxy 04:40:04:20\n",
      "Failed to parse: 40:04:20\n",
      "Using proxy 2116:847\n",
      "HTTPSConnectionPool(host='www.youtube.com', port=443): Max retries exceeded with url: /IndianPythonista (Caused by ProxyError('Cannot connect to proxy.', NewConnectionError('<urllib3.connection.VerifiedHTTPSConnection object at 0x000001C17D7048D0>: Failed to establish a new connection: [Errno 11001] getaddrinfo failed',)))\n",
      "Using proxy 947:1013\n",
      "HTTPSConnectionPool(host='www.youtube.com', port=443): Max retries exceeded with url: /IndianPythonista (Caused by ProxyError('Cannot connect to proxy.', NewConnectionError('<urllib3.connection.VerifiedHTTPSConnection object at 0x000001C17C61F0F0>: Failed to establish a new connection: [Errno 11001] getaddrinfo failed',)))\n",
      "Using proxy 176.103.56.36:8118\n"
     ]
    }
   ],
   "source": [
    "import time\n",
    "import requests\n",
    "from random import choice\n",
    "from bs4 import BeautifulSoup\n",
    "\n",
    "def get_proxy():\n",
    "    url = \"https://www.sslproxies.org/\"\n",
    "    r = requests.get(url)\n",
    "    soup = BeautifulSoup(r.content, 'html5lib')\n",
    "    return {'https': choice(list(map(lambda x:x[0]+':'+x[1], list(zip(map(lambda x:x.text, soup.findAll('td')[::8]), \n",
    "                                                                      map(lambda x:x.text, soup.findAll('td')[1::8]))))))}\n",
    "\n",
    "def proxy_request(request_type, url, **kwargs):\n",
    "    while 1:\n",
    "        try:\n",
    "            proxy = get_proxy()\n",
    "            print(f\"Using proxy {proxy['https']}\")\n",
    "            response = requests.request(request_type, url, proxies=proxy, timeout=5, **kwargs)\n",
    "            break\n",
    "        except Exception as e:\n",
    "            print(e)\n",
    "    return response\n",
    "if __name__ == \"__main__\":\n",
    "    r = proxy_request('get', \"https://www.youtube.com/IndianPythonista\")"
   ]
  },
  {
   "cell_type": "code",
   "execution_count": 12,
   "metadata": {},
   "outputs": [
    {
     "name": "stdout",
     "output_type": "stream",
     "text": [
      "Using proxy 03:00:02:40\n",
      "Failed to parse: 00:02:40\n",
      "Using proxy 86.57.219.184:23500\n",
      "HTTPSConnectionPool(host='travelagency22.blogspot.com', port=443): Max retries exceeded with url: / (Caused by ConnectTimeoutError(<urllib3.connection.VerifiedHTTPSConnection object at 0x000001C17EACD0B8>, 'Connection to 86.57.219.184 timed out. (connect timeout=5)'))\n",
      "Using proxy 176.103.40.198:30058\n",
      "HTTPSConnectionPool(host='travelagency22.blogspot.com', port=443): Max retries exceeded with url: / (Caused by ProxyError('Cannot connect to proxy.', NewConnectionError('<urllib3.connection.VerifiedHTTPSConnection object at 0x000001C17EA59668>: Failed to establish a new connection: [WinError 10061] No connection could be made because the target machine actively refused it',)))\n",
      "Using proxy 2116:847\n",
      "HTTPSConnectionPool(host='travelagency22.blogspot.com', port=443): Max retries exceeded with url: / (Caused by ProxyError('Cannot connect to proxy.', NewConnectionError('<urllib3.connection.VerifiedHTTPSConnection object at 0x000001C17E850978>: Failed to establish a new connection: [Errno 11001] getaddrinfo failed',)))\n",
      "Using proxy 158.255.249.58:34239\n",
      "HTTPSConnectionPool(host='travelagency22.blogspot.com', port=443): Max retries exceeded with url: / (Caused by ProxyError('Cannot connect to proxy.', NewConnectionError('<urllib3.connection.VerifiedHTTPSConnection object at 0x000001C17E9E3208>: Failed to establish a new connection: [WinError 10061] No connection could be made because the target machine actively refused it',)))\n",
      "Using proxy 118.174.65.137:42490\n",
      "HTTPSConnectionPool(host='travelagency22.blogspot.com', port=443): Max retries exceeded with url: / (Caused by ProxyError('Cannot connect to proxy.', NewConnectionError('<urllib3.connection.VerifiedHTTPSConnection object at 0x000001C17E54A198>: Failed to establish a new connection: [WinError 10061] No connection could be made because the target machine actively refused it',)))\n",
      "Using proxy 116.197.131.54:8080\n",
      "HTTPSConnectionPool(host='travelagency22.blogspot.com', port=443): Max retries exceeded with url: / (Caused by ConnectTimeoutError(<urllib3.connection.VerifiedHTTPSConnection object at 0x000001C17E384DA0>, 'Connection to 116.197.131.54 timed out. (connect timeout=5)'))\n",
      "Using proxy 125.26.7.11:36082\n",
      "HTTPSConnectionPool(host='travelagency22.blogspot.com', port=443): Max retries exceeded with url: / (Caused by ConnectTimeoutError(<urllib3.connection.VerifiedHTTPSConnection object at 0x000001C17E737438>, 'Connection to 125.26.7.11 timed out. (connect timeout=5)'))\n",
      "Using proxy 163.53.151.25:51338\n",
      "HTTPSConnectionPool(host='travelagency22.blogspot.com', port=443): Max retries exceeded with url: / (Caused by ProxyError('Cannot connect to proxy.', timeout('timed out',)))\n",
      "Using proxy 5.2.164.205:51386\n",
      "HTTPSConnectionPool(host='travelagency22.blogspot.com', port=443): Max retries exceeded with url: / (Caused by ProxyError('Cannot connect to proxy.', NewConnectionError('<urllib3.connection.VerifiedHTTPSConnection object at 0x000001C17E8373C8>: Failed to establish a new connection: [WinError 10061] No connection could be made because the target machine actively refused it',)))\n",
      "Using proxy 328:889\n",
      "HTTPSConnectionPool(host='travelagency22.blogspot.com', port=443): Max retries exceeded with url: / (Caused by ProxyError('Cannot connect to proxy.', NewConnectionError('<urllib3.connection.VerifiedHTTPSConnection object at 0x000001C17E066E10>: Failed to establish a new connection: [Errno 11001] getaddrinfo failed',)))\n",
      "Using proxy 28: AL\n",
      "Not supported proxy scheme 28\n",
      "Using proxy 41.72.203.66:60526\n",
      "HTTPSConnectionPool(host='travelagency22.blogspot.com', port=443): Max retries exceeded with url: / (Caused by ProxyError('Cannot connect to proxy.', NewConnectionError('<urllib3.connection.VerifiedHTTPSConnection object at 0x000001C17D97B8D0>: Failed to establish a new connection: [WinError 10061] No connection could be made because the target machine actively refused it',)))\n",
      "Using proxy 89.189.174.121:52636\n",
      "HTTPSConnectionPool(host='travelagency22.blogspot.com', port=443): Max retries exceeded with url: / (Caused by ConnectTimeoutError(<urllib3.connection.VerifiedHTTPSConnection object at 0x000001C17D6E4668>, 'Connection to 89.189.174.121 timed out. (connect timeout=5)'))\n",
      "Using proxy 154.236.162.41:8080\n"
     ]
    }
   ],
   "source": [
    "import requests\n",
    "from bs4 import BeautifulSoup\n",
    "from random import choice\n",
    "\n",
    "\n",
    "def get_proxy():\n",
    "    url = \"https://www.sslproxies.org/\"\n",
    "    r = requests.get(url)\n",
    "    soup = BeautifulSoup(r.content, 'html5lib')\n",
    "    return {'https': choice(list(map(lambda x:x[0]+':'+x[1], list(zip(map(lambda x:x.text, soup.findAll('td')[::8]), \n",
    "                                                                      map(lambda x:x.text, soup.findAll('td')[1::8]))))))}\n",
    "\n",
    "def proxy_request(request_type, url, **kwargs):\n",
    "    while 1:\n",
    "        try:\n",
    "            proxy = get_proxy()\n",
    "            print(f\"Using proxy {proxy['https']}\")\n",
    "            response = requests.request(request_type, url, proxies=proxy, timeout=5, **kwargs)\n",
    "            break\n",
    "        except Exception as e:\n",
    "            print(e)\n",
    "    return response\n",
    "\n",
    "\n",
    "if __name__ == \"__main__\":\n",
    "    r = proxy_request('get', \"https://travelagency22.blogspot.com/\")"
   ]
  },
  {
   "cell_type": "code",
   "execution_count": null,
   "metadata": {},
   "outputs": [],
   "source": []
  }
 ],
 "metadata": {
  "kernelspec": {
   "display_name": "Python 3",
   "language": "python",
   "name": "python3"
  },
  "language_info": {
   "codemirror_mode": {
    "name": "ipython",
    "version": 3
   },
   "file_extension": ".py",
   "mimetype": "text/x-python",
   "name": "python",
   "nbconvert_exporter": "python",
   "pygments_lexer": "ipython3",
   "version": "3.6.5"
  }
 },
 "nbformat": 4,
 "nbformat_minor": 2
}
